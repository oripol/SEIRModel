{
 "cells": [
  {
   "cell_type": "markdown",
   "metadata": {},
   "source": [
    "# MODEL COMPATIMENTAL SEIR\n",
    "https://en.wikipedia.org/wiki/Compartmental_models_in_epidemiology#The_SEIR_model"
   ]
  },
  {
   "cell_type": "code",
   "execution_count": 1,
   "metadata": {},
   "outputs": [],
   "source": [
    "import pandas as pd\n",
    "## Internal variables:\n",
    "numdies = 181\n",
    "sus= [0]*numdies ## Persones suceptibles\n",
    "exp= [0]*numdies ## Persones exposades\n",
    "inf= [0]*numdies ## Persones infectades\n",
    "inf_mild= [0]*numdies ## Persones infectades lleus\n",
    "inf_severes= [0]*numdies ## Persones infectades severes\n",
    "inf_fatal= [0]*numdies ## Persones infectades amb resultat de mort\n",
    "rec= [0]*numdies ## Persones que ja no estan infectats o que han mort\n",
    "rec_mild= [0]*numdies ## Persones recuperades despres de una malaltia lleu\n",
    "rec_severes= [0]*numdies ## Persones infectades  despres de una malaltia severa amb ingrès hospitaliari \n",
    "rec_fatal= [0]*numdies ## Exitus\n",
    "\n",
    "\n",
    "index = range(numdies)\n"
   ]
  },
  {
   "cell_type": "code",
   "execution_count": 2,
   "metadata": {
    "scrolled": true
   },
   "outputs": [],
   "source": [
    "## DADES INICIALS DEL MODEL\n",
    "dataInici='2020-02-15'\n",
    "# Dades poblaciionals\n",
    "\n",
    "N=450000 # Població de Lleida\n",
    "num_inf_ini=100 # Número incial de persones infectades\n",
    "\n",
    "# Dades epidemiológics\n",
    "Tgamma=25 # Duracio de la infeccio (dies)\n",
    "Talfa=5 # Periode mitja de incubacio (dies)\n",
    "R0=3 # Nombre basic de reproduccio\n",
    "\n",
    "\n",
    "\n",
    "# Dades Calculats\n",
    "gamma=1/Tgamma\n",
    "alfa=1/Talfa\n",
    "beta=R0*gamma # Mitjana de contactes per persona i temps\n",
    "\n"
   ]
  },
  {
   "cell_type": "code",
   "execution_count": 3,
   "metadata": {},
   "outputs": [],
   "source": [
    "sus[0]=N\n",
    "inf[0]=num_inf_ini\n",
    "for i in range(1,numdies):\n",
    "    sus[i]=sus[i-1]-(beta*inf[i-1]*sus[i-1]/N)\n",
    "    exp[i]=exp[i-1]+(beta*inf[i-1]*sus[i-1]/N)-(alfa*exp[i-1])\n",
    "    inf[i]=inf[i-1]+(alfa*exp[i-1])-(gamma*inf[i-1])\n",
    "    rec[i]=rec[i-1]+(gamma*inf[i-1])\n"
   ]
  },
  {
   "cell_type": "code",
   "execution_count": 4,
   "metadata": {
    "scrolled": true
   },
   "outputs": [
    {
     "data": {
      "text/html": [
       "<div>\n",
       "<style scoped>\n",
       "    .dataframe tbody tr th:only-of-type {\n",
       "        vertical-align: middle;\n",
       "    }\n",
       "\n",
       "    .dataframe tbody tr th {\n",
       "        vertical-align: top;\n",
       "    }\n",
       "\n",
       "    .dataframe thead th {\n",
       "        text-align: right;\n",
       "    }\n",
       "</style>\n",
       "<table border=\"1\" class=\"dataframe\">\n",
       "  <thead>\n",
       "    <tr style=\"text-align: right;\">\n",
       "      <th></th>\n",
       "      <th>Index</th>\n",
       "      <th>Data</th>\n",
       "      <th>Suscep</th>\n",
       "      <th>Exposats</th>\n",
       "      <th>Infectats</th>\n",
       "      <th>Recuperats</th>\n",
       "    </tr>\n",
       "  </thead>\n",
       "  <tbody>\n",
       "    <tr>\n",
       "      <th>0</th>\n",
       "      <td>0</td>\n",
       "      <td>2020-02-15</td>\n",
       "      <td>450000.000000</td>\n",
       "      <td>0.000000</td>\n",
       "      <td>10.000000</td>\n",
       "      <td>0.000000</td>\n",
       "    </tr>\n",
       "    <tr>\n",
       "      <th>1</th>\n",
       "      <td>1</td>\n",
       "      <td>2020-02-16</td>\n",
       "      <td>449997.500000</td>\n",
       "      <td>2.500000</td>\n",
       "      <td>9.166667</td>\n",
       "      <td>0.833333</td>\n",
       "    </tr>\n",
       "    <tr>\n",
       "      <th>2</th>\n",
       "      <td>2</td>\n",
       "      <td>2020-02-17</td>\n",
       "      <td>449995.208346</td>\n",
       "      <td>3.958321</td>\n",
       "      <td>9.236111</td>\n",
       "      <td>1.597222</td>\n",
       "    </tr>\n",
       "    <tr>\n",
       "      <th>3</th>\n",
       "      <td>3</td>\n",
       "      <td>2020-02-18</td>\n",
       "      <td>449992.899343</td>\n",
       "      <td>4.947884</td>\n",
       "      <td>9.785875</td>\n",
       "      <td>2.366898</td>\n",
       "    </tr>\n",
       "    <tr>\n",
       "      <th>4</th>\n",
       "      <td>4</td>\n",
       "      <td>2020-02-19</td>\n",
       "      <td>449990.452913</td>\n",
       "      <td>5.745019</td>\n",
       "      <td>10.619680</td>\n",
       "      <td>3.182388</td>\n",
       "    </tr>\n",
       "    <tr>\n",
       "      <th>...</th>\n",
       "      <td>...</td>\n",
       "      <td>...</td>\n",
       "      <td>...</td>\n",
       "      <td>...</td>\n",
       "      <td>...</td>\n",
       "      <td>...</td>\n",
       "    </tr>\n",
       "    <tr>\n",
       "      <th>176</th>\n",
       "      <td>176</td>\n",
       "      <td>2020-08-09</td>\n",
       "      <td>25681.615873</td>\n",
       "      <td>186.428866</td>\n",
       "      <td>3472.411713</td>\n",
       "      <td>420669.543547</td>\n",
       "    </tr>\n",
       "    <tr>\n",
       "      <th>177</th>\n",
       "      <td>177</td>\n",
       "      <td>2020-08-10</td>\n",
       "      <td>25632.073016</td>\n",
       "      <td>173.828769</td>\n",
       "      <td>3245.187026</td>\n",
       "      <td>420958.911190</td>\n",
       "    </tr>\n",
       "    <tr>\n",
       "      <th>178</th>\n",
       "      <td>178</td>\n",
       "      <td>2020-08-11</td>\n",
       "      <td>25585.861421</td>\n",
       "      <td>162.097441</td>\n",
       "      <td>3032.697697</td>\n",
       "      <td>421229.343442</td>\n",
       "    </tr>\n",
       "    <tr>\n",
       "      <th>179</th>\n",
       "      <td>179</td>\n",
       "      <td>2020-08-12</td>\n",
       "      <td>25542.753541</td>\n",
       "      <td>151.172840</td>\n",
       "      <td>2834.005369</td>\n",
       "      <td>421482.068250</td>\n",
       "    </tr>\n",
       "    <tr>\n",
       "      <th>180</th>\n",
       "      <td>180</td>\n",
       "      <td>2020-08-13</td>\n",
       "      <td>25502.537819</td>\n",
       "      <td>140.997616</td>\n",
       "      <td>2648.229202</td>\n",
       "      <td>421718.235364</td>\n",
       "    </tr>\n",
       "  </tbody>\n",
       "</table>\n",
       "<p>181 rows × 6 columns</p>\n",
       "</div>"
      ],
      "text/plain": [
       "     Index       Data         Suscep    Exposats    Infectats     Recuperats\n",
       "0        0 2020-02-15  450000.000000    0.000000    10.000000       0.000000\n",
       "1        1 2020-02-16  449997.500000    2.500000     9.166667       0.833333\n",
       "2        2 2020-02-17  449995.208346    3.958321     9.236111       1.597222\n",
       "3        3 2020-02-18  449992.899343    4.947884     9.785875       2.366898\n",
       "4        4 2020-02-19  449990.452913    5.745019    10.619680       3.182388\n",
       "..     ...        ...            ...         ...          ...            ...\n",
       "176    176 2020-08-09   25681.615873  186.428866  3472.411713  420669.543547\n",
       "177    177 2020-08-10   25632.073016  173.828769  3245.187026  420958.911190\n",
       "178    178 2020-08-11   25585.861421  162.097441  3032.697697  421229.343442\n",
       "179    179 2020-08-12   25542.753541  151.172840  2834.005369  421482.068250\n",
       "180    180 2020-08-13   25502.537819  140.997616  2648.229202  421718.235364\n",
       "\n",
       "[181 rows x 6 columns]"
      ]
     },
     "execution_count": 4,
     "metadata": {},
     "output_type": "execute_result"
    }
   ],
   "source": [
    "dates = pd.date_range(start=dataInici, periods=numdies).tolist()\n",
    "bbdd = pd.DataFrame({'Index':index,'Data':dates, 'Suscep':sus, 'Exposats':exp, 'Infectats':inf, 'Recuperats':rec})\n",
    "bbdd"
   ]
  },
  {
   "cell_type": "code",
   "execution_count": 5,
   "metadata": {},
   "outputs": [
    {
     "data": {
      "image/png": "[encoded data removed]",
      "text/plain": [
       "<Figure size 432x288 with 1 Axes>"
      ]
     },
     "metadata": {
      "needs_background": "light"
     },
     "output_type": "display_data"
    }
   ],
   "source": [
    "df = pd.DataFrame({'Suscep':sus, 'Exposats':exp, 'Infectats':inf, 'Recuperats':rec}, index=dates)\n",
    "lines = df.plot.line()"
   ]
  }
 ],
 "metadata": {
  "kernelspec": {
   "display_name": "Python 3",
   "language": "python",
   "name": "python3"
  },
  "language_info": {
   "codemirror_mode": {
    "name": "ipython",
    "version": 3
   },
   "file_extension": ".py",
   "mimetype": "text/x-python",
   "name": "python",
   "nbconvert_exporter": "python",
   "pygments_lexer": "ipython3",
   "version": "3.7.6"
  }
 },
 "nbformat": 4,
 "nbformat_minor": 4
}
